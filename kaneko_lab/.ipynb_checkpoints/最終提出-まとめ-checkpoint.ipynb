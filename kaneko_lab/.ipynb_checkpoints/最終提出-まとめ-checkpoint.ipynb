{
 "cells": [
  {
   "cell_type": "markdown",
   "metadata": {},
   "source": [
    "- Layer（重みを行列にしただけで簡単に動いた）, Networkクラスを実装。\n",
    "- 8つのパーセプトロン3層でネットワーク構築。\n",
    "- ニューラルネットの学習では一つの重みが他へ影響を持つ可能性があるので、target_networkを使い分ける。\n",
    "- 正則化項は下のレイヤーに関しても学習の際は抜けないように気をつけた。"
   ]
  },
  {
   "cell_type": "code",
   "execution_count": 5,
   "metadata": {},
   "outputs": [],
   "source": [
    "import numpy as np\n",
    "from numpy.random import rand\n",
    "from numpy.random import randn\n",
    "import copy\n",
    "from matplotlib import pyplot as plt\n",
    "%matplotlib inline\n",
    "\n",
    "def sigmoid(x):\n",
    "    return np.where(x < 0, np.exp(x) / (1 + np.exp(x)), \n",
    "                    1 / (1 + np.exp(-x)))\n",
    "\n",
    "class Layer:\n",
    "    def __init__(self, in_size, out_size, _lambda=1.0):\n",
    "        self._in_size = in_size\n",
    "        self._out_size = out_size\n",
    "        self._weight = randn(in_size, out_size)\n",
    "        self._lambda = _lambda\n",
    "        self._last_X = None\n",
    "        self._last_O = None\n",
    "        \n",
    "    def forward(self, X):\n",
    "        self._last_X = X\n",
    "        self._last_O = sigmoid(np.dot(X, self._weight))\n",
    "        return self._last_O\n",
    "    \n",
    "    # forwardで保持しておいた入力を用いて伝搬された値を掛けて学習\n",
    "    def backward(self, pt, learning_rate=1e-5):\n",
    "        self._weight -= np.sum(pt, axis=0) * (np.dot(self._last_X.T, self._last_O * (\n",
    "            1 - self._last_O)) + self._lambda * 2 * self._weight) * learning_rate\n",
    "        \n",
    "    def forward_over_partial_X(self):\n",
    "        return np.dot(self._last_O * (\n",
    "            1 - self._last_O), self._weight.T) \n",
    "\n",
    "    def nabla_w(self, O):\n",
    "        return np.dot(self._last_X.T, (2 * (self._last_O - O)) * self._last_O * (\n",
    "            1 - self._last_O)) + self._lambda * 2 * self._weight\n",
    "    \n",
    "    def _nabla_w(self, O):\n",
    "        return np.dot(self._last_X.T, (2 * (self._last_O - O)) * self._last_O * (\n",
    "            1 - self._last_O))\n",
    "    \n",
    "    # 勾配確認用\n",
    "    def numerical_nabla_w(self, O):\n",
    "        eps = 1e-7\n",
    "        nabla_w = np.zeros_like(self._weight)\n",
    "        for i in range(self._in_size):\n",
    "            tmp = self._weight[i]\n",
    "            self._weight[i] = float(tmp) - eps\n",
    "            lm = np.sum((sigmoid(np.dot(self._last_X, self._weight)) - O) ** 2)\n",
    "            self._weight[i] = float(tmp) + eps\n",
    "            lp = np.sum((sigmoid(np.dot(self._last_X, self._weight)) - O) ** 2)\n",
    "            nabla_w[i] = (lp - lm) / (2 * eps)\n",
    "            self._weight[i] = tmp\n",
    "        return nabla_w\n",
    "    \n",
    "    def nabla_i(self, O):\n",
    "        return np.dot(2 * (self._last_O - O) * self._last_O * \\\n",
    "                    (1 - self._last_O), self._weight.T)\n",
    "        \n",
    "    def learn(self, O, learning_rate=1e-5):\n",
    "        self._weight -= self.nabla_w(O) * learning_rate\n",
    "        # 数値計算版\n",
    "        # self._weight -= self.numerical_nabla_w(o_star, X) * learning_rate\n",
    "    \n",
    "    # experience_replay用に更新せずマイナス分を出力する関数を用意\n",
    "    def weight_diff_by_learn(self, O, learning_rate=1e-5):\n",
    "        return self.nabla_w(O) * learning_rate\n",
    "        \n",
    "    def weight_diff_by_backward(self, pt, learning_rate=1e-5):\n",
    "        return np.sum(pt, axis=0) * (np.dot(self._last_X.T, self._last_O * (\n",
    "            1 - self._last_O)) + self._lambda * 2 * self._weight) * learning_rate"
   ]
  },
  {
   "cell_type": "code",
   "execution_count": 6,
   "metadata": {},
   "outputs": [],
   "source": [
    "class Network:\n",
    "    def __init__(self, layer_count, in_count, out_count, hidden_count):\n",
    "        assert(layer_count > 2)\n",
    "        self.layer_count = layer_count\n",
    "        self.input_layer = Layer(in_count, hidden_count)\n",
    "        self.hidden_layeres = []\n",
    "        for i in range(layer_count - 2):\n",
    "            self.hidden_layeres.append(Layer(hidden_count, hidden_count))\n",
    "        self.output_layer = Layer(hidden_count, out_count)\n",
    "        \n",
    "    def predict(self, X):\n",
    "        out = self.input_layer.forward(X)\n",
    "        for i in range(self.layer_count - 2):\n",
    "            out = self.hidden_layeres[i].forward(out)\n",
    "        out = self.output_layer.forward(out)\n",
    "        return out     \n",
    "        \n",
    "    def loss_function(self, X, O):\n",
    "        out = self.predict(X)\n",
    "        return np.sum((out - O) ** 2)\n",
    "    \n",
    "    def learn(self, X, O):\n",
    "        self.output_layer.learn(O)\n",
    "        di = self.output_layer.nabla_i(O)\n",
    "        for i in range(self.layer_count - 2):\n",
    "            self.hidden_layeres[self.layer_count - 3 - i].backward(di)\n",
    "            di = self.hidden_layeres[self.layer_count - 3 - i].forward_over_partial_X()\n",
    "        self.input_layer.backward(di)\n",
    "        \n",
    "    # experience_replay用に更新せずマイナス分を出力する関数とそれを受けて更新をかける関数を用意\n",
    "    def get_weight_diff(self, X, O):\n",
    "        diff_list = []\n",
    "        diff_list.append(self.output_layer.weight_diff_by_learn(O))\n",
    "        di = self.output_layer.nabla_i(O)\n",
    "        for i in range(self.layer_count - 2):\n",
    "            diff_list.append(self.hidden_layeres[self.layer_count - 3 - i].weight_diff_by_backward(di))\n",
    "            di = self.hidden_layeres[self.layer_count - 3 - i].forward_over_partial_X()\n",
    "        diff_list.append(self.input_layer.weight_diff_by_backward(di))\n",
    "        return diff_list\n",
    "    \n",
    "    def update_weight_by_diff(self, weight_diff_list):\n",
    "        self.output_layer._weight -= weight_diff_list[0]\n",
    "        for i in range(self.layer_count - 2):\n",
    "            self.hidden_layeres[self.layer_count - 3 - i]._weight -= weight_diff_list[i + 1]\n",
    "        self.input_layer._weight -= weight_diff_list[-1]\n",
    "        \n",
    "    def test_grad(self, O):\n",
    "        print(self.output_layer._nabla_w(O))\n",
    "        print(self.output_layer.numerical_nabla_w(O))\n",
    "        return np.linalg.norm(self.output_layer.nabla_w(O) - self.output_layer.numerical_nabla_w(O))"
   ]
  },
  {
   "cell_type": "markdown",
   "metadata": {},
   "source": [
    "# XORの学習"
   ]
  },
  {
   "cell_type": "code",
   "execution_count": 29,
   "metadata": {
    "scrolled": true
   },
   "outputs": [
    {
     "name": "stdout",
     "output_type": "stream",
     "text": [
      "250.21905084193733\n",
      "[[-0.18211926]\n",
      " [-0.14604268]]\n",
      "[[-0.09105975]\n",
      " [-0.07302148]]\n",
      "勾配確認： 2.2998994569080105\n"
     ]
    },
    {
     "name": "stderr",
     "output_type": "stream",
     "text": [
      "/Users/masahiromatsui/.pyenv/versions/anaconda3-4.3.1/lib/python3.6/site-packages/ipykernel_launcher.py:9: RuntimeWarning: overflow encountered in exp\n",
      "  if __name__ == '__main__':\n",
      "/Users/masahiromatsui/.pyenv/versions/anaconda3-4.3.1/lib/python3.6/site-packages/ipykernel_launcher.py:9: RuntimeWarning: invalid value encountered in true_divide\n",
      "  if __name__ == '__main__':\n"
     ]
    },
    {
     "name": "stdout",
     "output_type": "stream",
     "text": [
      "250.16162577699194\n",
      "[[-0.12674788]\n",
      " [-0.11302713]]\n",
      "[[-0.0633743 ]\n",
      " [-0.05651302]]\n",
      "勾配確認： 2.2229789982638266\n",
      "250.1449790128504\n",
      "[[-0.11135868]\n",
      " [-0.10567257]]\n",
      "[[-0.05567927]\n",
      " [-0.05283681]]\n",
      "勾配確認： 2.169936951998807\n",
      "250.13556418663387\n",
      "[[-0.10511183]\n",
      " [-0.10107001]]\n",
      "[[-0.05255558]\n",
      " [-0.05053522]]\n",
      "勾配確認： 2.121851567442989\n",
      "250.13107864890324\n",
      "[[-0.10234642]\n",
      " [-0.100553  ]]\n",
      "[[-0.05117329]\n",
      " [-0.05027616]]\n",
      "勾配確認： 2.077397287366426\n",
      "250.12737612104314\n",
      "[[-0.10088717]\n",
      " [-0.10004186]]\n",
      "[[-0.05044399]\n",
      " [-0.05002107]]\n",
      "勾配確認： 2.0342285184631743\n",
      "250.12410335678993\n",
      "[[-0.10002172]\n",
      " [-0.09959836]]\n",
      "[[-0.05001084]\n",
      " [-0.0497991 ]]\n",
      "勾配確認： 1.992128953605608\n",
      "250.12108518205122\n",
      "[[-0.09943928]\n",
      " [-0.09921945]]\n",
      "[[-0.0497198 ]\n",
      " [-0.04960981]]\n",
      "勾配確認： 1.9509792863097832\n",
      "250.1182245574313\n",
      "[[-0.09899644]\n",
      " [-0.09887977]]\n",
      "[[-0.04949825]\n",
      " [-0.04943942]]\n",
      "勾配確認： 1.910707946520971\n",
      "250.1154721709183\n",
      "[[-0.09862528]\n",
      " [-0.09856236]]\n",
      "[[-0.04931266]\n",
      " [-0.04928111]]\n",
      "勾配確認： 1.871268298108139\n"
     ]
    },
    {
     "data": {
      "image/png": "[encoded data removed]",
      "text/plain": [
       "<Figure size 432x288 with 1 Axes>"
      ]
     },
     "metadata": {},
     "output_type": "display_data"
    }
   ],
   "source": [
    "# Xor\n",
    "# learning_rateを大きくするとすぐに振動する。\n",
    "# 3層、入力2、出力1、隠れ層のパーセプトロン数2で実装。\n",
    "# 収束が見られた。\n",
    "X = rand(1000, 2)\n",
    "test_X = rand(500, 2)\n",
    "def Xor(X):\n",
    "    _X = copy.deepcopy(X.T)\n",
    "    _X[0] = X.T[0] > 0.5\n",
    "    _X[1] = X.T[1] > 0.5\n",
    "    return np.logical_xor(_X[0], _X[1]).astype(float).T.reshape(_X.shape[1], 1)\n",
    "O = Xor(X)\n",
    "test_O = Xor(test_X)\n",
    "\n",
    "def train_network(network, X, O, learning_count=10000):\n",
    "    learning_step = 0\n",
    "    loss = np.empty(learning_count)\n",
    "    while learning_count > learning_step:\n",
    "        loss[learning_step] = network.loss_function(test_X, test_O)\n",
    "        print(network.loss_function(X, O)) if learning_step % 1000 == 999 else network.loss_function(X, O) \n",
    "        print(\"勾配確認：\", network.test_grad(O)) if learning_step % 1000 == 999 else None\n",
    "        network.learn(X, O)   \n",
    "        learning_step += 1\n",
    "    plt.plot(loss)\n",
    "\n",
    "network = Network(10, 2, 1, 2)\n",
    "train_network(network, X, O)    "
   ]
  },
  {
   "cell_type": "markdown",
   "metadata": {},
   "source": [
    "# DQNのエージェントを定義"
   ]
  },
  {
   "cell_type": "code",
   "execution_count": 3,
   "metadata": {},
   "outputs": [],
   "source": [
    "import gym, gym.spaces\n",
    "from copy import deepcopy\n",
    "from collections import deque\n",
    "import random\n",
    "\n",
    "class DQN:\n",
    "    def __init__(self, env, memory_count=100000):\n",
    "        self.env = env\n",
    "        self.state_size = env.observation_space.n\n",
    "        self.action_size = env.action_space.n\n",
    "        self.memory = deque(maxlen=memory_count)\n",
    "        # 報酬が正の時のみ特別に保持したが、逆効果だった。\n",
    "        # self.precious_meomory = deque(maxlen=memory_count)\n",
    "        self.gamma = 0.9\n",
    "        self.epsilon = 1.0\n",
    "        self.model = self.build_network()\n",
    "        self.target_model = deepcopy(self.model)\n",
    "        \n",
    "    def reset_memory(self, memory_count=100000):\n",
    "        self.memory = deque(maxlen=memory_count)\n",
    "        \n",
    "    def build_network(self):\n",
    "        # 8層、状態を入力とし、行動価値のベクトルを返す隠れ層のパーセプトロン数が3のネットワーク\n",
    "        # チョット変えてみる\n",
    "        return Network(8, self.state_size,  self.action_size, 50)\n",
    "\n",
    "    def choose_action(self, state):\n",
    "        if self.epsilon >= random.random():\n",
    "            return self.env.action_space.sample()\n",
    "        else:       \n",
    "            return self.choose_best_action(state)\n",
    "\n",
    "    def choose_best_action(self, state):\n",
    "        state_v = np.zeros(self.state_size)\n",
    "        state_v[state] = 1.0\n",
    "        return np.argmax(self.model.predict(state_v))\n",
    "\n",
    "    def replay_experience(self, batch_size):\n",
    "        batch_size = min(batch_size, len(self.memory))\n",
    "        minibatch = random.sample(self.memory, batch_size)\n",
    "        X = []\n",
    "        O = []\n",
    "        \n",
    "        \n",
    "        for i in range(len(minibatch)):\n",
    "            o_star = np.zeros(self.action_size)\n",
    "            o_star = np.zeros(self.action_size)\n",
    "            state, action, reward, next_state, done = minibatch[i]\n",
    "            state_v = np.zeros(self.state_size)\n",
    "            state_v[state] = 1.0\n",
    "            if done:\n",
    "                o_star[action] = reward\n",
    "            else:\n",
    "                next_state_v = np.zeros(self.state_size)\n",
    "                next_state_v[next_state] = 1.0\n",
    "                o_star[action] = reward + self.gamma * max(self.model.predict(next_state_v))\n",
    "            X.append(state_v)\n",
    "            O.append(o_star)\n",
    "            \n",
    "            \n",
    "        X = np.array(X)\n",
    "        O = np.array(O)\n",
    "        # forwardして更新\n",
    "        self.model.predict(X)\n",
    "        # modelで求めた勾配をtarget_modelにhannei\n",
    "        self.target_model.update_weight_by_diff(self.model.get_weight_diff(X, O))"
   ]
  },
  {
   "cell_type": "markdown",
   "metadata": {},
   "source": [
    "# plot用関数"
   ]
  },
  {
   "cell_type": "code",
   "execution_count": 7,
   "metadata": {},
   "outputs": [],
   "source": [
    "import matplotlib.pyplot as plt\n",
    "import matplotlib.cm as cm\n",
    "import matplotlib.ticker as ticker\n",
    "%matplotlib inline\n",
    "\n",
    "def plot_epsilon_and_reward(_epsilons, _rewards):\n",
    "    fig = plt.figure()\n",
    "    ax1 = fig.add_subplot(111)\n",
    "    ax1.plot(_epsilons, 'C0', label='epsilon')\n",
    "\n",
    "    ax2 = ax1.twinx()\n",
    "    ax2.plot(_rewards,'C1', label='average reward')\n",
    "\n",
    "    h1, l1 = ax1.get_legend_handles_labels()\n",
    "    h2, l2 = ax2.get_legend_handles_labels()\n",
    "    ax1.legend(h1 + h2, l1 + l2, loc='lower right')\n",
    "\n",
    "    ax1.set_xlabel('time')\n",
    "    ax1.set_ylabel('epsilon')\n",
    "    ax1.grid(True)\n",
    "    ax2.set_ylabel('average reward')\n",
    "    ax1.get_xaxis().set_major_locator(ticker.MaxNLocator(integer=True))"
   ]
  },
  {
   "cell_type": "code",
   "execution_count": null,
   "metadata": {},
   "outputs": [],
   "source": []
  },
  {
   "cell_type": "code",
   "execution_count": null,
   "metadata": {},
   "outputs": [],
   "source": []
  },
  {
   "cell_type": "code",
   "execution_count": null,
   "metadata": {},
   "outputs": [],
   "source": []
  },
  {
   "cell_type": "code",
   "execution_count": null,
   "metadata": {},
   "outputs": [],
   "source": []
  },
  {
   "cell_type": "code",
   "execution_count": null,
   "metadata": {},
   "outputs": [],
   "source": []
  },
  {
   "cell_type": "code",
   "execution_count": null,
   "metadata": {},
   "outputs": [],
   "source": []
  },
  {
   "cell_type": "code",
   "execution_count": null,
   "metadata": {},
   "outputs": [],
   "source": []
  },
  {
   "cell_type": "code",
   "execution_count": null,
   "metadata": {},
   "outputs": [],
   "source": []
  },
  {
   "cell_type": "code",
   "execution_count": null,
   "metadata": {},
   "outputs": [],
   "source": []
  },
  {
   "cell_type": "code",
   "execution_count": null,
   "metadata": {},
   "outputs": [],
   "source": []
  },
  {
   "cell_type": "code",
   "execution_count": null,
   "metadata": {},
   "outputs": [],
   "source": []
  },
  {
   "cell_type": "code",
   "execution_count": null,
   "metadata": {},
   "outputs": [],
   "source": []
  },
  {
   "cell_type": "code",
   "execution_count": null,
   "metadata": {},
   "outputs": [],
   "source": []
  },
  {
   "cell_type": "markdown",
   "metadata": {},
   "source": [
    "# FrozenLake-v0の学習（収束せず）"
   ]
  },
  {
   "cell_type": "code",
   "execution_count": 64,
   "metadata": {},
   "outputs": [
    {
     "name": "stderr",
     "output_type": "stream",
     "text": [
      "[2018-12-02 16:14:11,262] Making new env: FrozenLake-v0\n"
     ]
    },
    {
     "data": {
      "application/vnd.jupyter.widget-view+json": {
       "model_id": "",
       "version_major": 2,
       "version_minor": 0
      },
      "text/plain": [
       "FloatProgress(value=0.0, max=50000.0)"
      ]
     },
     "metadata": {},
     "output_type": "display_data"
    },
    {
     "name": "stderr",
     "output_type": "stream",
     "text": [
      "/Users/masahiromatsui/.pyenv/versions/anaconda3-4.3.1/lib/python3.6/site-packages/ipykernel_launcher.py:9: RuntimeWarning: overflow encountered in exp\n",
      "  if __name__ == '__main__':\n"
     ]
    },
    {
     "data": {
      "image/png": "[encoded data removed]",
      "text/plain": [
       "<Figure size 432x288 with 2 Axes>"
      ]
     },
     "metadata": {},
     "output_type": "display_data"
    }
   ],
   "source": [
    "from IPython.display import display\n",
    "import ipywidgets as widgets\n",
    "import matplotlib.cm as cm\n",
    "import matplotlib.ticker as ticker\n",
    "\n",
    "memory_count = 100000\n",
    "episodes_c = 50000\n",
    "exchange_time = 1000\n",
    "batch_size = 1024\n",
    "epsilons = deque(maxlen=episodes_c)\n",
    "avg_rewards = deque(maxlen=episodes_c)\n",
    "sampling_rewards = deque(maxlen=exchange_time)\n",
    "dqn_player = DQN(gym.make('FrozenLake-v0'), memory_count)\n",
    "fp = widgets.FloatProgress(min=0, max=episodes_c)\n",
    "display(fp)\n",
    "for e in range(episodes_c):\n",
    "    fp.value += 1\n",
    "    state = dqn_player.env.reset()\n",
    "    done = False\n",
    "    total_reward = 0\n",
    "    while not done:\n",
    "        action = dqn_player.choose_action(state)\n",
    "        pre_state = state\n",
    "        state, reward, done, info = dqn_player.env.step(action)\n",
    "        total_reward += reward\n",
    "#         if reward > 0:\n",
    "#             dqn_player.precious_meomory.append((pre_state, action, reward, state, done))\n",
    "        # 報酬をクリッピング\n",
    "        if 0 > reward:\n",
    "            reward = -1.0 \n",
    "        else:\n",
    "            reward = 1.0\n",
    "        dqn_player.memory.append((pre_state, action, reward, state, done))\n",
    "\n",
    "    sampling_rewards.append(total_reward)\n",
    "    dqn_player.replay_experience(batch_size)\n",
    "    \n",
    "    # 報酬の移動平均を求める。\n",
    "    if len(sampling_rewards) >= exchange_time:\n",
    "        epsilons.append(dqn_player.epsilon)\n",
    "        avg_rewards.append(np.mean(sampling_rewards))\n",
    "    \n",
    "#     # ランダムな動きでメモリを溜め込んだら残りの回数はepsilonを線形に減らす。\n",
    "    if episodes_c // 2 < e and episodes_c - e - 1 != 0:\n",
    "#     if episodes_c - e - 1 != 0:\n",
    "        dqn_player.epsilon -= dqn_player.epsilon / (episodes_c - e - 1)\n",
    "        \n",
    "    if e % exchange_time == exchange_time - 1:\n",
    "        dqn_player.model = dqn_player.target_model\n",
    "        # 新しい重みの状態でのデータを貯め直す\n",
    "        # dqn_player.reset_memory()\n",
    "        \n",
    "fp.close()\n",
    "plot_epsilon_and_reward(epsilons, avg_rewards)"
   ]
  },
  {
   "cell_type": "code",
   "execution_count": 65,
   "metadata": {},
   "outputs": [
    {
     "name": "stderr",
     "output_type": "stream",
     "text": [
      "[2018-12-02 17:17:35,437] Making new env: FrozenLake-v0\n"
     ]
    },
    {
     "data": {
      "application/vnd.jupyter.widget-view+json": {
       "model_id": "",
       "version_major": 2,
       "version_minor": 0
      },
      "text/plain": [
       "FloatProgress(value=0.0, max=500000.0)"
      ]
     },
     "metadata": {},
     "output_type": "display_data"
    },
    {
     "name": "stderr",
     "output_type": "stream",
     "text": [
      "/Users/masahiromatsui/.pyenv/versions/anaconda3-4.3.1/lib/python3.6/site-packages/ipykernel_launcher.py:9: RuntimeWarning: overflow encountered in exp\n",
      "  if __name__ == '__main__':\n"
     ]
    },
    {
     "data": {
      "image/png": "[encoded data removed]",
      "text/plain": [
       "<Figure size 432x288 with 2 Axes>"
      ]
     },
     "metadata": {},
     "output_type": "display_data"
    }
   ],
   "source": [
    "from IPython.display import display\n",
    "import ipywidgets as widgets\n",
    "import matplotlib.cm as cm\n",
    "import matplotlib.ticker as ticker\n",
    "\n",
    "memory_count = 100000\n",
    "episodes_c = 500000\n",
    "exchange_time = 1000\n",
    "batch_size = 1024\n",
    "epsilons = deque(maxlen=episodes_c)\n",
    "avg_rewards = deque(maxlen=episodes_c)\n",
    "sampling_rewards = deque(maxlen=exchange_time)\n",
    "dqn_player = DQN(gym.make('FrozenLake-v0'), memory_count)\n",
    "fp = widgets.FloatProgress(min=0, max=episodes_c)\n",
    "display(fp)\n",
    "for e in range(episodes_c):\n",
    "    fp.value += 1\n",
    "    state = dqn_player.env.reset()\n",
    "    done = False\n",
    "    total_reward = 0\n",
    "    while not done:\n",
    "        action = dqn_player.choose_action(state)\n",
    "        pre_state = state\n",
    "        state, reward, done, info = dqn_player.env.step(action)\n",
    "        total_reward += reward\n",
    "#         if reward > 0:\n",
    "#             dqn_player.precious_meomory.append((pre_state, action, reward, state, done))\n",
    "        # 報酬をクリッピング\n",
    "        if 0 > reward:\n",
    "            reward = -1.0 \n",
    "        else:\n",
    "            reward = 1.0\n",
    "        dqn_player.memory.append((pre_state, action, reward, state, done))\n",
    "\n",
    "    sampling_rewards.append(total_reward)\n",
    "    dqn_player.replay_experience(batch_size)\n",
    "    \n",
    "    # 報酬の移動平均を求める。\n",
    "    if len(sampling_rewards) >= exchange_time:\n",
    "        epsilons.append(dqn_player.epsilon)\n",
    "        avg_rewards.append(np.mean(sampling_rewards))\n",
    "    \n",
    "#     # ランダムな動きでメモリを溜め込んだら残りの回数はepsilonを線形に減らす。\n",
    "    if episodes_c // 2 < e and episodes_c - e - 1 != 0:\n",
    "#     if episodes_c - e - 1 != 0:\n",
    "        dqn_player.epsilon -= dqn_player.epsilon / (episodes_c - e - 1)\n",
    "        \n",
    "    if e % exchange_time == exchange_time - 1:\n",
    "        dqn_player.model = dqn_player.target_model\n",
    "        # 新しい重みの状態でのデータを貯め直す\n",
    "        # dqn_player.reset_memory()\n",
    "        \n",
    "fp.close()\n",
    "plot_epsilon_and_reward(epsilons, avg_rewards)"
   ]
  },
  {
   "cell_type": "code",
   "execution_count": 66,
   "metadata": {},
   "outputs": [
    {
     "name": "stderr",
     "output_type": "stream",
     "text": [
      "[2018-12-03 03:54:47,238] Making new env: FrozenLake-v0\n"
     ]
    },
    {
     "data": {
      "application/vnd.jupyter.widget-view+json": {
       "model_id": "7b93fbd2a67f4022b7ad90d618dfcf15",
       "version_major": 2,
       "version_minor": 0
      },
      "text/plain": [
       "FloatProgress(value=0.0, max=500000.0)"
      ]
     },
     "metadata": {},
     "output_type": "display_data"
    },
    {
     "name": "stderr",
     "output_type": "stream",
     "text": [
      "/Users/masahiromatsui/.pyenv/versions/anaconda3-4.3.1/lib/python3.6/site-packages/ipykernel_launcher.py:9: RuntimeWarning: overflow encountered in exp\n",
      "  if __name__ == '__main__':\n"
     ]
    },
    {
     "ename": "KeyboardInterrupt",
     "evalue": "",
     "output_type": "error",
     "traceback": [
      "\u001b[0;31m---------------------------------------------------------------------------\u001b[0m",
      "\u001b[0;31mKeyboardInterrupt\u001b[0m                         Traceback (most recent call last)",
      "\u001b[0;32m<ipython-input-66-e604836646e7>\u001b[0m in \u001b[0;36m<module>\u001b[0;34m()\u001b[0m\n\u001b[1;32m     34\u001b[0m \u001b[0;34m\u001b[0m\u001b[0m\n\u001b[1;32m     35\u001b[0m     \u001b[0msampling_rewards\u001b[0m\u001b[0;34m.\u001b[0m\u001b[0mappend\u001b[0m\u001b[0;34m(\u001b[0m\u001b[0mtotal_reward\u001b[0m\u001b[0;34m)\u001b[0m\u001b[0;34m\u001b[0m\u001b[0m\n\u001b[0;32m---> 36\u001b[0;31m     \u001b[0mdqn_player\u001b[0m\u001b[0;34m.\u001b[0m\u001b[0mreplay_experience\u001b[0m\u001b[0;34m(\u001b[0m\u001b[0mbatch_size\u001b[0m\u001b[0;34m)\u001b[0m\u001b[0;34m\u001b[0m\u001b[0m\n\u001b[0m\u001b[1;32m     37\u001b[0m \u001b[0;34m\u001b[0m\u001b[0m\n\u001b[1;32m     38\u001b[0m     \u001b[0;31m# 報酬の移動平均を求める。\u001b[0m\u001b[0;34m\u001b[0m\u001b[0;34m\u001b[0m\u001b[0m\n",
      "\u001b[0;32m<ipython-input-51-375ece33b7ad>\u001b[0m in \u001b[0;36mreplay_experience\u001b[0;34m(self, batch_size)\u001b[0m\n\u001b[1;32m     54\u001b[0m                 \u001b[0mnext_state_v\u001b[0m \u001b[0;34m=\u001b[0m \u001b[0mnp\u001b[0m\u001b[0;34m.\u001b[0m\u001b[0mzeros\u001b[0m\u001b[0;34m(\u001b[0m\u001b[0mself\u001b[0m\u001b[0;34m.\u001b[0m\u001b[0mstate_size\u001b[0m\u001b[0;34m)\u001b[0m\u001b[0;34m\u001b[0m\u001b[0m\n\u001b[1;32m     55\u001b[0m                 \u001b[0mnext_state_v\u001b[0m\u001b[0;34m[\u001b[0m\u001b[0mnext_state\u001b[0m\u001b[0;34m]\u001b[0m \u001b[0;34m=\u001b[0m \u001b[0;36m1.0\u001b[0m\u001b[0;34m\u001b[0m\u001b[0m\n\u001b[0;32m---> 56\u001b[0;31m                 \u001b[0mo_star\u001b[0m\u001b[0;34m[\u001b[0m\u001b[0maction\u001b[0m\u001b[0;34m]\u001b[0m \u001b[0;34m=\u001b[0m \u001b[0mreward\u001b[0m \u001b[0;34m+\u001b[0m \u001b[0mself\u001b[0m\u001b[0;34m.\u001b[0m\u001b[0mgamma\u001b[0m \u001b[0;34m*\u001b[0m \u001b[0mmax\u001b[0m\u001b[0;34m(\u001b[0m\u001b[0mself\u001b[0m\u001b[0;34m.\u001b[0m\u001b[0mmodel\u001b[0m\u001b[0;34m.\u001b[0m\u001b[0mpredict\u001b[0m\u001b[0;34m(\u001b[0m\u001b[0mnext_state_v\u001b[0m\u001b[0;34m)\u001b[0m\u001b[0;34m)\u001b[0m\u001b[0;34m\u001b[0m\u001b[0m\n\u001b[0m\u001b[1;32m     57\u001b[0m             \u001b[0mX\u001b[0m\u001b[0;34m.\u001b[0m\u001b[0mappend\u001b[0m\u001b[0;34m(\u001b[0m\u001b[0mstate_v\u001b[0m\u001b[0;34m)\u001b[0m\u001b[0;34m\u001b[0m\u001b[0m\n\u001b[1;32m     58\u001b[0m             \u001b[0mO\u001b[0m\u001b[0;34m.\u001b[0m\u001b[0mappend\u001b[0m\u001b[0;34m(\u001b[0m\u001b[0mo_star\u001b[0m\u001b[0;34m)\u001b[0m\u001b[0;34m\u001b[0m\u001b[0m\n",
      "\u001b[0;32m<ipython-input-2-8b03cc553986>\u001b[0m in \u001b[0;36mpredict\u001b[0;34m(self, X)\u001b[0m\n\u001b[1;32m     12\u001b[0m         \u001b[0mout\u001b[0m \u001b[0;34m=\u001b[0m \u001b[0mself\u001b[0m\u001b[0;34m.\u001b[0m\u001b[0minput_layer\u001b[0m\u001b[0;34m.\u001b[0m\u001b[0mforward\u001b[0m\u001b[0;34m(\u001b[0m\u001b[0mX\u001b[0m\u001b[0;34m)\u001b[0m\u001b[0;34m\u001b[0m\u001b[0m\n\u001b[1;32m     13\u001b[0m         \u001b[0;32mfor\u001b[0m \u001b[0mi\u001b[0m \u001b[0;32min\u001b[0m \u001b[0mrange\u001b[0m\u001b[0;34m(\u001b[0m\u001b[0mself\u001b[0m\u001b[0;34m.\u001b[0m\u001b[0mlayer_count\u001b[0m \u001b[0;34m-\u001b[0m \u001b[0;36m2\u001b[0m\u001b[0;34m)\u001b[0m\u001b[0;34m:\u001b[0m\u001b[0;34m\u001b[0m\u001b[0m\n\u001b[0;32m---> 14\u001b[0;31m             \u001b[0mout\u001b[0m \u001b[0;34m=\u001b[0m \u001b[0mself\u001b[0m\u001b[0;34m.\u001b[0m\u001b[0mhidden_layeres\u001b[0m\u001b[0;34m[\u001b[0m\u001b[0mi\u001b[0m\u001b[0;34m]\u001b[0m\u001b[0;34m.\u001b[0m\u001b[0mforward\u001b[0m\u001b[0;34m(\u001b[0m\u001b[0mout\u001b[0m\u001b[0;34m)\u001b[0m\u001b[0;34m\u001b[0m\u001b[0m\n\u001b[0m\u001b[1;32m     15\u001b[0m         \u001b[0mout\u001b[0m \u001b[0;34m=\u001b[0m \u001b[0mself\u001b[0m\u001b[0;34m.\u001b[0m\u001b[0moutput_layer\u001b[0m\u001b[0;34m.\u001b[0m\u001b[0mforward\u001b[0m\u001b[0;34m(\u001b[0m\u001b[0mout\u001b[0m\u001b[0;34m)\u001b[0m\u001b[0;34m\u001b[0m\u001b[0m\n\u001b[1;32m     16\u001b[0m         \u001b[0;32mreturn\u001b[0m \u001b[0mout\u001b[0m\u001b[0;34m\u001b[0m\u001b[0m\n",
      "\u001b[0;32m<ipython-input-1-a889ae42c1cf>\u001b[0m in \u001b[0;36mforward\u001b[0;34m(self, X)\u001b[0m\n\u001b[1;32m     20\u001b[0m     \u001b[0;32mdef\u001b[0m \u001b[0mforward\u001b[0m\u001b[0;34m(\u001b[0m\u001b[0mself\u001b[0m\u001b[0;34m,\u001b[0m \u001b[0mX\u001b[0m\u001b[0;34m)\u001b[0m\u001b[0;34m:\u001b[0m\u001b[0;34m\u001b[0m\u001b[0m\n\u001b[1;32m     21\u001b[0m         \u001b[0mself\u001b[0m\u001b[0;34m.\u001b[0m\u001b[0m_last_X\u001b[0m \u001b[0;34m=\u001b[0m \u001b[0mX\u001b[0m\u001b[0;34m\u001b[0m\u001b[0m\n\u001b[0;32m---> 22\u001b[0;31m         \u001b[0mself\u001b[0m\u001b[0;34m.\u001b[0m\u001b[0m_last_O\u001b[0m \u001b[0;34m=\u001b[0m \u001b[0msigmoid\u001b[0m\u001b[0;34m(\u001b[0m\u001b[0mnp\u001b[0m\u001b[0;34m.\u001b[0m\u001b[0mdot\u001b[0m\u001b[0;34m(\u001b[0m\u001b[0mX\u001b[0m\u001b[0;34m,\u001b[0m \u001b[0mself\u001b[0m\u001b[0;34m.\u001b[0m\u001b[0m_weight\u001b[0m\u001b[0;34m)\u001b[0m\u001b[0;34m)\u001b[0m\u001b[0;34m\u001b[0m\u001b[0m\n\u001b[0m\u001b[1;32m     23\u001b[0m         \u001b[0;32mreturn\u001b[0m \u001b[0mself\u001b[0m\u001b[0;34m.\u001b[0m\u001b[0m_last_O\u001b[0m\u001b[0;34m\u001b[0m\u001b[0m\n\u001b[1;32m     24\u001b[0m \u001b[0;34m\u001b[0m\u001b[0m\n",
      "\u001b[0;31mKeyboardInterrupt\u001b[0m: "
     ]
    }
   ],
   "source": [
    "from IPython.display import display\n",
    "import ipywidgets as widgets\n",
    "import matplotlib.cm as cm\n",
    "import matplotlib.ticker as ticker\n",
    "\n",
    "memory_count = 100000\n",
    "episodes_c = 500000\n",
    "exchange_time = 1000\n",
    "batch_size = 1024\n",
    "epsilons = deque(maxlen=episodes_c)\n",
    "avg_rewards = deque(maxlen=episodes_c)\n",
    "sampling_rewards = deque(maxlen=exchange_time)\n",
    "dqn_player = DQN(gym.make('FrozenLake-v0'), memory_count)\n",
    "fp = widgets.FloatProgress(min=0, max=episodes_c)\n",
    "display(fp)\n",
    "for e in range(episodes_c):\n",
    "    fp.value += 1\n",
    "    state = dqn_player.env.reset()\n",
    "    done = False\n",
    "    total_reward = 0\n",
    "    while not done:\n",
    "        action = dqn_player.choose_action(state)\n",
    "        pre_state = state\n",
    "        state, reward, done, info = dqn_player.env.step(action)\n",
    "        total_reward += reward\n",
    "#         if reward > 0:\n",
    "#             dqn_player.precious_meomory.append((pre_state, action, reward, state, done))\n",
    "        # 報酬をクリッピング\n",
    "        if 0 > reward:\n",
    "            reward = -1.0 \n",
    "        else:\n",
    "            reward = 1.0\n",
    "        dqn_player.memory.append((pre_state, action, reward, state, done))\n",
    "\n",
    "    sampling_rewards.append(total_reward)\n",
    "    dqn_player.replay_experience(batch_size)\n",
    "    \n",
    "    # 報酬の移動平均を求める。\n",
    "    if len(sampling_rewards) >= exchange_time:\n",
    "        epsilons.append(dqn_player.epsilon)\n",
    "        avg_rewards.append(np.mean(sampling_rewards))\n",
    "    \n",
    "#     # ランダムな動きでメモリを溜め込んだら残りの回数はepsilonを線形に減らす。\n",
    "    if episodes_c // 2 < e and episodes_c - e - 1 != 0:\n",
    "#     if episodes_c - e - 1 != 0:\n",
    "        dqn_player.epsilon -= dqn_player.epsilon / (episodes_c - e - 1)\n",
    "        \n",
    "    if e % exchange_time == exchange_time - 1:\n",
    "        dqn_player.model = dqn_player.target_model\n",
    "        # 新しい重みの状態でのデータを貯め直す\n",
    "        # dqn_player.reset_memory()\n",
    "        \n",
    "fp.close()\n",
    "plot_epsilon_and_reward(epsilons, avg_rewards)"
   ]
  },
  {
   "cell_type": "code",
   "execution_count": null,
   "metadata": {},
   "outputs": [],
   "source": [
    "from IPython.display import display\n",
    "import ipywidgets as widgets\n",
    "import matplotlib.cm as cm\n",
    "import matplotlib.ticker as ticker\n",
    "\n",
    "memory_count = 100000\n",
    "episodes_c = 500000\n",
    "exchange_time = 1000\n",
    "batch_size = 1024\n",
    "epsilons = deque(maxlen=episodes_c)\n",
    "avg_rewards = deque(maxlen=episodes_c)\n",
    "sampling_rewards = deque(maxlen=exchange_time)\n",
    "dqn_player = DQN(gym.make('FrozenLake-v0'), memory_count)\n",
    "fp = widgets.FloatProgress(min=0, max=episodes_c)\n",
    "display(fp)\n",
    "for e in range(episodes_c):\n",
    "    fp.value += 1\n",
    "    state = dqn_player.env.reset()\n",
    "    done = False\n",
    "    total_reward = 0\n",
    "    while not done:\n",
    "        action = dqn_player.choose_action(state)\n",
    "        pre_state = state\n",
    "        state, reward, done, info = dqn_player.env.step(action)\n",
    "        total_reward += reward\n",
    "#         if reward > 0:\n",
    "#             dqn_player.precious_meomory.append((pre_state, action, reward, state, done))\n",
    "        # 報酬をクリッピング\n",
    "        if 0 > reward:\n",
    "            reward = -1.0 \n",
    "        else:\n",
    "            reward = 1.0\n",
    "        dqn_player.memory.append((pre_state, action, reward, state, done))\n",
    "\n",
    "    sampling_rewards.append(total_reward)\n",
    "    dqn_player.replay_experience(batch_size)\n",
    "    \n",
    "    # 報酬の移動平均を求める。\n",
    "    if len(sampling_rewards) >= exchange_time:\n",
    "        epsilons.append(dqn_player.epsilon)\n",
    "        avg_rewards.append(np.mean(sampling_rewards))\n",
    "    \n",
    "#     # ランダムな動きでメモリを溜め込んだら残りの回数はepsilonを線形に減らす。\n",
    "    if episodes_c // 2 < e and episodes_c - e - 1 != 0:\n",
    "#     if episodes_c - e - 1 != 0:\n",
    "        dqn_player.epsilon -= dqn_player.epsilon / (episodes_c - e - 1)\n",
    "        \n",
    "    if e % exchange_time == exchange_time - 1:\n",
    "        dqn_player.model = dqn_player.target_model\n",
    "        # 新しい重みの状態でのデータを貯め直す\n",
    "        # dqn_player.reset_memory()\n",
    "        \n",
    "fp.close()\n",
    "plot_epsilon_and_reward(epsilons, avg_rewards)"
   ]
  },
  {
   "cell_type": "code",
   "execution_count": null,
   "metadata": {},
   "outputs": [],
   "source": [
    "from IPython.display import display\n",
    "import ipywidgets as widgets\n",
    "import matplotlib.cm as cm\n",
    "import matplotlib.ticker as ticker\n",
    "\n",
    "memory_count = 100000\n",
    "episodes_c = 500000\n",
    "exchange_time = 1000\n",
    "batch_size = 1024\n",
    "epsilons = deque(maxlen=episodes_c)\n",
    "avg_rewards = deque(maxlen=episodes_c)\n",
    "sampling_rewards = deque(maxlen=exchange_time)\n",
    "dqn_player = DQN(gym.make('FrozenLake-v0'), memory_count)\n",
    "fp = widgets.FloatProgress(min=0, max=episodes_c)\n",
    "display(fp)\n",
    "for e in range(episodes_c):\n",
    "    fp.value += 1\n",
    "    state = dqn_player.env.reset()\n",
    "    done = False\n",
    "    total_reward = 0\n",
    "    while not done:\n",
    "        action = dqn_player.choose_action(state)\n",
    "        pre_state = state\n",
    "        state, reward, done, info = dqn_player.env.step(action)\n",
    "        total_reward += reward\n",
    "#         if reward > 0:\n",
    "#             dqn_player.precious_meomory.append((pre_state, action, reward, state, done))\n",
    "        # 報酬をクリッピング\n",
    "        if 0 > reward:\n",
    "            reward = -1.0 \n",
    "        else:\n",
    "            reward = 1.0\n",
    "        dqn_player.memory.append((pre_state, action, reward, state, done))\n",
    "\n",
    "    sampling_rewards.append(total_reward)\n",
    "    dqn_player.replay_experience(batch_size)\n",
    "    \n",
    "    # 報酬の移動平均を求める。\n",
    "    if len(sampling_rewards) >= exchange_time:\n",
    "        epsilons.append(dqn_player.epsilon)\n",
    "        avg_rewards.append(np.mean(sampling_rewards))\n",
    "    \n",
    "#     # ランダムな動きでメモリを溜め込んだら残りの回数はepsilonを線形に減らす。\n",
    "    if episodes_c // 2 < e and episodes_c - e - 1 != 0:\n",
    "#     if episodes_c - e - 1 != 0:\n",
    "        dqn_player.epsilon -= dqn_player.epsilon / (episodes_c - e - 1)\n",
    "        \n",
    "    if e % exchange_time == exchange_time - 1:\n",
    "        dqn_player.model = dqn_player.target_model\n",
    "        # 新しい重みの状態でのデータを貯め直す\n",
    "        # dqn_player.reset_memory()\n",
    "        \n",
    "fp.close()\n",
    "plot_epsilon_and_reward(epsilons, avg_rewards)"
   ]
  },
  {
   "cell_type": "code",
   "execution_count": 17,
   "metadata": {},
   "outputs": [
    {
     "data": {
      "text/plain": [
       "[<matplotlib.lines.Line2D at 0x11a637f98>]"
      ]
     },
     "execution_count": 17,
     "metadata": {},
     "output_type": "execute_result"
    },
    {
     "data": {
      "image/png": "[encoded data removed]",
      "text/plain": [
       "<Figure size 432x288 with 1 Axes>"
      ]
     },
     "metadata": {},
     "output_type": "display_data"
    }
   ],
   "source": [
    "from IPython.display import display\n",
    "import ipywidgets as widgets\n",
    "dqn_player = DQN(gym.make('FrozenLake-v0'))\n",
    "episodes_c = 20000\n",
    "exchange_time = 100\n",
    "batch_size = 128\n",
    "rewards_per_episode = []\n",
    "rewards_per_episode_ave = []\n",
    "fp = widgets.FloatProgress(min=0, max=episodes_c)\n",
    "display(fp)\n",
    "for e in range(episodes_c):\n",
    "    fp.value += 1\n",
    "    state = dqn_player.env.reset()\n",
    "    done = False\n",
    "    total_reward = 0\n",
    "    while not done:\n",
    "        action = dqn_player.choose_action(state)\n",
    "        pre_state = state\n",
    "        state, reward, done, info = dqn_player.env.step(action)\n",
    "        total_reward += reward\n",
    "        dqn_player.append_memory(pre_state, action, reward, state, done)\n",
    "    rewards_per_episode.append(total_reward)\n",
    "    dqn_player.replay_experience(batch_size)\n",
    "    if e % exchange_time == 0:\n",
    "        rewards_per_episode_ave.append(sum(rewards_per_episode) / exchange_time)\n",
    "        rewards_per_episode = []\n",
    "        dqn_player.model = dqn_player.target_model\n",
    "        \n",
    "fp.close()\n",
    "plt.plot(rewards_per_episode_ave)"
   ]
  },
  {
   "cell_type": "code",
   "execution_count": null,
   "metadata": {},
   "outputs": [],
   "source": []
  },
  {
   "cell_type": "code",
   "execution_count": null,
   "metadata": {},
   "outputs": [],
   "source": []
  },
  {
   "cell_type": "code",
   "execution_count": null,
   "metadata": {},
   "outputs": [],
   "source": []
  },
  {
   "cell_type": "code",
   "execution_count": null,
   "metadata": {},
   "outputs": [],
   "source": []
  },
  {
   "cell_type": "code",
   "execution_count": null,
   "metadata": {},
   "outputs": [],
   "source": []
  },
  {
   "cell_type": "code",
   "execution_count": null,
   "metadata": {},
   "outputs": [],
   "source": []
  },
  {
   "cell_type": "code",
   "execution_count": null,
   "metadata": {},
   "outputs": [],
   "source": []
  },
  {
   "cell_type": "code",
   "execution_count": null,
   "metadata": {},
   "outputs": [],
   "source": []
  },
  {
   "cell_type": "code",
   "execution_count": null,
   "metadata": {},
   "outputs": [],
   "source": []
  },
  {
   "cell_type": "code",
   "execution_count": 41,
   "metadata": {},
   "outputs": [
    {
     "name": "stderr",
     "output_type": "stream",
     "text": [
      "[2018-12-01 13:28:03,149] Making new env: FrozenLake-v0\n"
     ]
    },
    {
     "data": {
      "application/vnd.jupyter.widget-view+json": {
       "model_id": "",
       "version_major": 2,
       "version_minor": 0
      },
      "text/plain": [
       "FloatProgress(value=0.0, max=2000.0)"
      ]
     },
     "metadata": {},
     "output_type": "display_data"
    },
    {
     "data": {
      "text/plain": [
       "<matplotlib.legend.Legend at 0x1125d7e80>"
      ]
     },
     "execution_count": 41,
     "metadata": {},
     "output_type": "execute_result"
    },
    {
     "data": {
      "image/png": "[encoded data removed]",
      "text/plain": [
       "<Figure size 432x288 with 1 Axes>"
      ]
     },
     "metadata": {},
     "output_type": "display_data"
    }
   ],
   "source": [
    "from IPython.display import display\n",
    "import ipywidgets as widgets\n",
    "memory_count = 10000\n",
    "episodes_c = 2000\n",
    "exchange_time = 100\n",
    "batch_size = 1024\n",
    "rewards_per_episode = []\n",
    "rewards_per_episode_ave = []\n",
    "epsilons = []\n",
    "dqn_player = DQN(gym.make('FrozenLake-v0'), memory_count)\n",
    "fp = widgets.FloatProgress(min=0, max=episodes_c)\n",
    "display(fp)\n",
    "for e in range(episodes_c):\n",
    "    fp.value += 1\n",
    "    state = dqn_player.env.reset()\n",
    "    done = False\n",
    "    total_reward = 0\n",
    "    while not done:\n",
    "        action = dqn_player.choose_action(state)\n",
    "        pre_state = state\n",
    "        state, reward, done, info = dqn_player.env.step(action)\n",
    "        total_reward += reward\n",
    "        dqn_player.append_memory(pre_state, action, reward, state, done)\n",
    "    rewards_per_episode.append(total_reward)\n",
    "    dqn_player.replay_experience(batch_size)\n",
    "    # ランダムな動きでメモリを溜め込んだら残りの回数はepsilonを線形に減らす。\n",
    "    if episodes_c // 2 < e and episodes_c - e - 1 != 0:\n",
    "        dqn_player.epsilon -= dqn_player.epsilon / (episodes_c - e - 1)\n",
    "        \n",
    "    if e % exchange_time == exchange_time - 1:\n",
    "        rewards_per_episode_ave.append(sum(rewards_per_episode) / exchange_time)\n",
    "        epsilons.append(dqn_player.epsilon)\n",
    "        rewards_per_episode = []\n",
    "        dqn_player.model = dqn_player.target_model\n",
    "        \n",
    "fp.close()\n",
    "plt.plot(rewards_per_episode_ave, linestyle='None', marker='o', label=\"average reward\")\n",
    "plt.plot(epsilons, label=\"epsilon\")\n",
    "plt.legend()"
   ]
  },
  {
   "cell_type": "code",
   "execution_count": null,
   "metadata": {},
   "outputs": [],
   "source": []
  },
  {
   "cell_type": "code",
   "execution_count": null,
   "metadata": {},
   "outputs": [],
   "source": []
  },
  {
   "cell_type": "markdown",
   "metadata": {},
   "source": [
    "# Taxi-v2の学習（-200までは収束）"
   ]
  },
  {
   "cell_type": "code",
   "execution_count": 48,
   "metadata": {},
   "outputs": [
    {
     "name": "stderr",
     "output_type": "stream",
     "text": [
      "[2018-12-01 03:20:22,485] Making new env: Taxi-v2\n"
     ]
    },
    {
     "data": {
      "application/vnd.jupyter.widget-view+json": {
       "model_id": "",
       "version_major": 2,
       "version_minor": 0
      },
      "text/plain": [
       "FloatProgress(value=0.0, max=20000.0)"
      ]
     },
     "metadata": {},
     "output_type": "display_data"
    },
    {
     "data": {
      "text/plain": [
       "[<matplotlib.lines.Line2D at 0x11a4a4240>]"
      ]
     },
     "execution_count": 48,
     "metadata": {},
     "output_type": "execute_result"
    },
    {
     "data": {
      "image/png": "[encoded data removed]",
      "text/plain": [
       "<Figure size 432x288 with 1 Axes>"
      ]
     },
     "metadata": {},
     "output_type": "display_data"
    }
   ],
   "source": [
    "from IPython.display import display\n",
    "import ipywidgets as widgets\n",
    "episodes_c = 20000\n",
    "exchange_time = 100\n",
    "batch_size = 128\n",
    "rewards_per_episode = []\n",
    "rewards_per_episode_ave = []\n",
    "dqn_player = DQN(gym.make('Taxi-v2'), episodes_c, exchange_time)\n",
    "fp = widgets.FloatProgress(min=0, max=episodes_c)\n",
    "display(fp)\n",
    "for e in range(episodes_c):\n",
    "    fp.value += 1\n",
    "    state = dqn_player.env.reset()\n",
    "    done = False\n",
    "    total_reward = 0\n",
    "    while not done:\n",
    "        action = dqn_player.choose_action(state)\n",
    "        pre_state = state\n",
    "        state, reward, done, info = dqn_player.env.step(action)\n",
    "        total_reward += reward\n",
    "        dqn_player.append_memory(pre_state, action, reward, state, done)\n",
    "    rewards_per_episode.append(total_reward)\n",
    "    dqn_player.replay_experience(batch_size)\n",
    "    if e % exchange_time == exchange_time - 1:\n",
    "        rewards_per_episode_ave.append(sum(rewards_per_episode) / exchange_time)\n",
    "        rewards_per_episode = []\n",
    "        dqn_player.model = dqn_player.target_model\n",
    "        \n",
    "fp.close()\n",
    "plt.plot(rewards_per_episode_ave, linestyle='None', marker='o')"
   ]
  },
  {
   "cell_type": "code",
   "execution_count": 8,
   "metadata": {},
   "outputs": [
    {
     "name": "stderr",
     "output_type": "stream",
     "text": [
      "[2019-01-14 19:53:44,811] Making new env: Taxi-v2\n",
      "/Users/masahiromatsui/.pyenv/versions/anaconda3-4.3.1/lib/python3.6/site-packages/gym/envs/registration.py:17: PkgResourcesDeprecationWarning: Parameters to load are deprecated.  Call .resolve and .require separately.\n",
      "  result = entry_point.load(False)\n"
     ]
    },
    {
     "data": {
      "application/vnd.jupyter.widget-view+json": {
       "model_id": "",
       "version_major": 2,
       "version_minor": 0
      },
      "text/plain": [
       "FloatProgress(value=0.0, max=50000.0)"
      ]
     },
     "metadata": {},
     "output_type": "display_data"
    },
    {
     "name": "stderr",
     "output_type": "stream",
     "text": [
      "/Users/masahiromatsui/.pyenv/versions/anaconda3-4.3.1/lib/python3.6/site-packages/ipykernel_launcher.py:10: RuntimeWarning: overflow encountered in exp\n",
      "  # Remove the CWD from sys.path while we load stuff.\n",
      "/Users/masahiromatsui/.pyenv/versions/anaconda3-4.3.1/lib/python3.6/site-packages/ipykernel_launcher.py:9: RuntimeWarning: overflow encountered in exp\n",
      "  if __name__ == '__main__':\n",
      "/Users/masahiromatsui/.pyenv/versions/anaconda3-4.3.1/lib/python3.6/site-packages/ipykernel_launcher.py:9: RuntimeWarning: invalid value encountered in true_divide\n",
      "  if __name__ == '__main__':\n"
     ]
    },
    {
     "data": {
      "image/png": "[encoded data removed]",
      "text/plain": [
       "<Figure size 432x288 with 2 Axes>"
      ]
     },
     "metadata": {},
     "output_type": "display_data"
    }
   ],
   "source": [
    "from IPython.display import display\n",
    "import ipywidgets as widgets\n",
    "import matplotlib.cm as cm\n",
    "import matplotlib.ticker as ticker\n",
    "\n",
    "memory_count = 100000\n",
    "episodes_c = 50000\n",
    "exchange_time = 1000\n",
    "batch_size = 32\n",
    "epsilons = deque(maxlen=episodes_c)\n",
    "avg_rewards = deque(maxlen=episodes_c)\n",
    "sampling_rewards = deque(maxlen=exchange_time)\n",
    "dqn_player = DQN(gym.make('Taxi-v2'), memory_count)\n",
    "fp = widgets.FloatProgress(min=0, max=episodes_c)\n",
    "display(fp)\n",
    "for e in range(episodes_c):\n",
    "    fp.value += 1\n",
    "    state = dqn_player.env.reset()\n",
    "    done = False\n",
    "    total_reward = 0\n",
    "    while not done:\n",
    "        action = dqn_player.choose_action(state)\n",
    "        pre_state = state\n",
    "        state, reward, done, info = dqn_player.env.step(action)\n",
    "        total_reward += reward\n",
    "#         if reward > 0:\n",
    "#             dqn_player.precious_meomory.append((pre_state, action, reward, state, done))\n",
    "        # 報酬をクリッピング\n",
    "        if 0 > reward:\n",
    "            reward = -1.0 \n",
    "        else:\n",
    "            reward = 1.0\n",
    "        dqn_player.memory.append((pre_state, action, reward, state, done))\n",
    "\n",
    "    sampling_rewards.append(total_reward)\n",
    "    dqn_player.replay_experience(batch_size)\n",
    "    \n",
    "    # 報酬の移動平均を求める。\n",
    "    if len(sampling_rewards) >= exchange_time:\n",
    "        epsilons.append(dqn_player.epsilon)\n",
    "        avg_rewards.append(np.mean(sampling_rewards))\n",
    "    \n",
    "#     # ランダムな動きでメモリを溜め込んだら残りの回数はepsilonを線形に減らす。\n",
    "#     if episodes_c // 2 < e and episodes_c - e - 1 != 0:\n",
    "    if episodes_c - e - 1 != 0:\n",
    "        dqn_player.epsilon -= dqn_player.epsilon / (episodes_c - e - 1)\n",
    "        \n",
    "    if e % exchange_time == exchange_time - 1:\n",
    "        dqn_player.model = dqn_player.target_model\n",
    "        # 新しい重みの状態でのデータを貯め直す\n",
    "        dqn_player.reset_memory()\n",
    "        \n",
    "fp.close()\n",
    "plot_epsilon_and_reward(epsilons, avg_rewards)"
   ]
  },
  {
   "cell_type": "code",
   "execution_count": null,
   "metadata": {},
   "outputs": [],
   "source": []
  }
 ],
 "metadata": {
  "kernelspec": {
   "display_name": "Python 3",
   "language": "python",
   "name": "python3"
  },
  "language_info": {
   "codemirror_mode": {
    "name": "ipython",
    "version": 3
   },
   "file_extension": ".py",
   "mimetype": "text/x-python",
   "name": "python",
   "nbconvert_exporter": "python",
   "pygments_lexer": "ipython3",
   "version": "3.6.0"
  }
 },
 "nbformat": 4,
 "nbformat_minor": 2
}
